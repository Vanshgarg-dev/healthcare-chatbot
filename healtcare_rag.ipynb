{
 "cells": [
  {
   "cell_type": "code",
   "execution_count": null,
   "metadata": {},
   "outputs": [],
   "source": [
    "! pip install sentence-transformers\n",
    "! pip install qdrant_client"
   ]
  },
  {
   "cell_type": "code",
   "execution_count": null,
   "metadata": {
    "colab": {
     "base_uri": "https://localhost:8080/"
    },
    "executionInfo": {
     "elapsed": 18920,
     "status": "ok",
     "timestamp": 1722523623097,
     "user": {
      "displayName": "Vansh Khaneja",
      "userId": "15012697263169406210"
     },
     "user_tz": -330
    },
    "id": "tI_V6JMbWYA1",
    "outputId": "9cc1ad77-9817-4b93-bdb8-3843a9672385"
   },
   "outputs": [],
   "source": [
    "from langchain.document_loaders import PyPDFLoader\n",
    "from langchain.text_splitter import RecursiveCharacterTextSplitter\n",
    "\n",
    "from sentence_transformers import SentenceTransformer\n"
   ]
  },
  {
   "cell_type": "code",
   "execution_count": null,
   "metadata": {
    "executionInfo": {
     "elapsed": 553,
     "status": "ok",
     "timestamp": 1722523166660,
     "user": {
      "displayName": "Vansh Khaneja",
      "userId": "15012697263169406210"
     },
     "user_tz": -330
    },
    "id": "_wDhz6iVXi6J"
   },
   "outputs": [],
   "source": [
    "loaders = [\n",
    "    PyPDFLoader(\"Medical-Encyclopedia.pdf\"),\n",
    "]\n",
    "docs = []\n",
    "for loader in loaders:\n",
    "    docs.extend(loader.load())"
   ]
  },
  {
   "cell_type": "code",
   "execution_count": null,
   "metadata": {
    "colab": {
     "base_uri": "https://localhost:8080/"
    },
    "executionInfo": {
     "elapsed": 7,
     "status": "ok",
     "timestamp": 1722523919079,
     "user": {
      "displayName": "Vansh Khaneja",
      "userId": "15012697263169406210"
     },
     "user_tz": -330
    },
    "id": "UYs7wMcOYfoH",
    "outputId": "ed79e675-c418-4f66-873a-0bb31aec292e"
   },
   "outputs": [],
   "source": [
    "chunk_size=2500\n",
    "chunk_overlap = 250\n",
    "r_splitter = RecursiveCharacterTextSplitter(\n",
    "    chunk_size=chunk_size,\n",
    "    chunk_overlap=chunk_overlap\n",
    "    )\n",
    "\n",
    "splits = r_splitter.split_documents(docs)\n",
    "# splits[0]\n",
    "chunks = [doc.page_content for doc in splits]"
   ]
  },
  {
   "cell_type": "code",
   "execution_count": null,
   "metadata": {
    "executionInfo": {
     "elapsed": 522,
     "status": "ok",
     "timestamp": 1722523990316,
     "user": {
      "displayName": "Vansh Khaneja",
      "userId": "15012697263169406210"
     },
     "user_tz": -330
    },
    "id": "AHBMqnXEYhda"
   },
   "outputs": [],
   "source": []
  },
  {
   "cell_type": "code",
   "execution_count": null,
   "metadata": {
    "executionInfo": {
     "elapsed": 9325,
     "status": "ok",
     "timestamp": 1722524001266,
     "user": {
      "displayName": "Vansh Khaneja",
      "userId": "15012697263169406210"
     },
     "user_tz": -330
    },
    "id": "ZFuLGoMHY4nx"
   },
   "outputs": [],
   "source": [
    "model = SentenceTransformer(\"neuml/pubmedbert-base-embeddings\")\n",
    "vectors = model.encode(chunks)"
   ]
  },
  {
   "cell_type": "code",
   "execution_count": null,
   "metadata": {
    "colab": {
     "base_uri": "https://localhost:8080/",
     "height": 72
    },
    "executionInfo": {
     "elapsed": 8,
     "status": "ok",
     "timestamp": 1722524002538,
     "user": {
      "displayName": "Vansh Khaneja",
      "userId": "15012697263169406210"
     },
     "user_tz": -330
    },
    "id": "V5v4lvotZg3X",
    "outputId": "11adc032-ed98-475d-9271-e71bbe024102"
   },
   "outputs": [],
   "source": [
    "chunks[0]"
   ]
  },
  {
   "cell_type": "code",
   "execution_count": null,
   "metadata": {
    "colab": {
     "base_uri": "https://localhost:8080/"
    },
    "executionInfo": {
     "elapsed": 479,
     "status": "ok",
     "timestamp": 1722528772469,
     "user": {
      "displayName": "Vansh Khaneja",
      "userId": "15012697263169406210"
     },
     "user_tz": -330
    },
    "id": "gT67jgMkbCGp",
    "outputId": "e6c23623-b550-474a-af33-fe943c22fc7c"
   },
   "outputs": [],
   "source": [
    "len(vectors[7])\n"
   ]
  },
  {
   "cell_type": "code",
   "execution_count": null,
   "metadata": {
    "executionInfo": {
     "elapsed": 504,
     "status": "ok",
     "timestamp": 1722528650589,
     "user": {
      "displayName": "Vansh Khaneja",
      "userId": "15012697263169406210"
     },
     "user_tz": -330
    },
    "id": "vZ_NeiqSbFVw"
   },
   "outputs": [],
   "source": [
    "from qdrant_client import QdrantClient\n",
    "from qdrant_client.models import Distance, VectorParams\n",
    "\n",
    "client = QdrantClient(\":memory:\")"
   ]
  },
  {
   "cell_type": "code",
   "execution_count": null,
   "metadata": {
    "colab": {
     "base_uri": "https://localhost:8080/"
    },
    "executionInfo": {
     "elapsed": 474,
     "status": "ok",
     "timestamp": 1722528819626,
     "user": {
      "displayName": "Vansh Khaneja",
      "userId": "15012697263169406210"
     },
     "user_tz": -330
    },
    "id": "LKZMJnMXdOAj",
    "outputId": "2be24faa-46bc-4917-baad-25093ae6bb28"
   },
   "outputs": [],
   "source": [
    "client.recreate_collection(\n",
    "    collection_name=\"medical-encyclopedia\",\n",
    "    vectors_config=VectorParams(size=len(vectors[0]), distance=Distance.COSINE),\n",
    ")"
   ]
  },
  {
   "cell_type": "code",
   "execution_count": null,
   "metadata": {
    "colab": {
     "base_uri": "https://localhost:8080/",
     "height": 110
    },
    "executionInfo": {
     "elapsed": 472,
     "status": "error",
     "timestamp": 1722530747915,
     "user": {
      "displayName": "Vansh Khaneja",
      "userId": "15012697263169406210"
     },
     "user_tz": -330
    },
    "id": "9W0Y3JsAt-UN",
    "outputId": "e9ad0ba7-ba6e-4c63-c9fd-cfcba5bf16c6"
   },
   "outputs": [],
   "source": [
    "chunks = [doc.page_content for doc in splits]\n",
    "client.upload_collection(\n",
    "    collection_name=\"medical-encyclopedia\",\n",
    "    ids=[i for i in range(len(chunks))],\n",
    "    vectors=vectors,\n",
    ")"
   ]
  },
  {
   "cell_type": "code",
   "execution_count": null,
   "metadata": {
    "executionInfo": {
     "elapsed": 462,
     "status": "ok",
     "timestamp": 1722530145243,
     "user": {
      "displayName": "Vansh Khaneja",
      "userId": "15012697263169406210"
     },
     "user_tz": -330
    },
    "id": "UgroMlRrv3NF"
   },
   "outputs": [],
   "source": [
    "question = \"Tell me about cartilage?\""
   ]
  },
  {
   "cell_type": "code",
   "execution_count": null,
   "metadata": {
    "executionInfo": {
     "elapsed": 653,
     "status": "ok",
     "timestamp": 1722530811376,
     "user": {
      "displayName": "Vansh Khaneja",
      "userId": "15012697263169406210"
     },
     "user_tz": -330
    },
    "id": "j5vvE_xtzIHp"
   },
   "outputs": [],
   "source": [
    "def make_context(question):\n",
    "  ques_vector = model.encode(question)\n",
    "  result = client.query_points(\n",
    "      collection_name=\"medical-encyclopedia\",\n",
    "      query=ques_vector,\n",
    "\n",
    "\n",
    "  )\n",
    "\n",
    "  sim_ids = []\n",
    "  for i in result.points:\n",
    "    sim_ids.append(i.id)\n",
    "  context = \"\"\n",
    "  for i in sim_ids[0:2]:\n",
    "    context+=chunks[i]\n",
    "  return context"
   ]
  },
  {
   "cell_type": "code",
   "execution_count": null,
   "metadata": {
    "executionInfo": {
     "elapsed": 1210,
     "status": "ok",
     "timestamp": 1722531530192,
     "user": {
      "displayName": "Vansh Khaneja",
      "userId": "15012697263169406210"
     },
     "user_tz": -330
    },
    "id": "qPIKfNcG2i5m"
   },
   "outputs": [],
   "source": [
    "from groq import Groq\n",
    "\n",
    "groq_api = Groq(api_key=\"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\")\n",
    "def respond(question):\n",
    "    chat_completion = groq_api.chat.completions.create(\n",
    "        messages=[\n",
    "            {\n",
    "                \"role\": \"user\",\n",
    "                \"content\": f\"This is the question asked by user {question} and the context given is {make_context(question)} answer this question based on the context provided\",\n",
    "            }\n",
    "                ],\n",
    "                model=\"llama-3.1-70b-versatile\",\n",
    "            )\n",
    "    return chat_completion.choices[0].message.content"
   ]
  },
  {
   "cell_type": "code",
   "execution_count": null,
   "metadata": {
    "colab": {
     "base_uri": "https://localhost:8080/",
     "height": 145
    },
    "executionInfo": {
     "elapsed": 471,
     "status": "ok",
     "timestamp": 1722531536441,
     "user": {
      "displayName": "Vansh Khaneja",
      "userId": "15012697263169406210"
     },
     "user_tz": -330
    },
    "id": "4aIO8MTG3Kt9",
    "outputId": "23496ac1-48d8-4532-bab6-d5e0b98b62e3"
   },
   "outputs": [],
   "source": [
    "#print(make_context(question))\n",
    "\n",
    "respond(question)"
   ]
  },
  {
   "cell_type": "code",
   "execution_count": null,
   "metadata": {},
   "outputs": [],
   "source": [
    "import gradio as gr\n",
    "\n",
    "with gr.Blocks() as demo:\n",
    "    gr.Markdown(\n",
    "        \"\"\"\n",
    "        <div style=\"text-align: center;\">\n",
    "            <h1 style=\"color: #0078D7;\">Healthcare Chatbot</h1>\n",
    "        </div>\n",
    "        \"\"\"\n",
    "    )\n",
    "\n",
    "    gr.Markdown(\n",
    "        \"\"\"\n",
    "        <p style=\"text-align: center; font-size: 18px; color: #555;\">\n",
    "            Hello! Just ask me anything about any disease.\n",
    "        </p>\n",
    "        \"\"\"\n",
    "    )\n",
    "\n",
    "    gr.Markdown(\"<hr/>\")\n",
    "\n",
    "    user_query = gr.Textbox(placeholder=\"E.g., Tell me about cartilage?\", label=\"Enter your question:\")\n",
    "    \n",
    "    output = gr.HTML()\n",
    "\n",
    "    def generate_response(user_query):\n",
    "        bot_response = respond(user_query)\n",
    "        return f\"\"\"\n",
    "        <div style=\"background-color: #f9f9f9; padding: 10px; border-radius: 5px; margin-top: 20px;\">\n",
    "            <h4 style=\"color: #0078D7;\">Answer:</h4>\n",
    "            <p style=\"color: #333;\">{bot_response}</p>\n",
    "        </div>\n",
    "        \"\"\"\n",
    "\n",
    "    submit_button = gr.Button(\"Answer\")\n",
    "    submit_button.click(fn=generate_response, inputs=user_query, outputs=output)\n",
    "\n",
    "demo.launch()\n"
   ]
  }
 ],
 "metadata": {
  "colab": {
   "authorship_tag": "ABX9TyOpGvGLrJ5b9rn8aQNSooDA",
   "provenance": []
  },
  "kernelspec": {
   "display_name": "Python 3 (ipykernel)",
   "language": "python",
   "name": "python3"
  },
  "language_info": {
   "codemirror_mode": {
    "name": "ipython",
    "version": 3
   },
   "file_extension": ".py",
   "mimetype": "text/x-python",
   "name": "python",
   "nbconvert_exporter": "python",
   "pygments_lexer": "ipython3",
   "version": "3.12.6"
  }
 },
 "nbformat": 4,
 "nbformat_minor": 1
}
